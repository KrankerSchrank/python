{
 "cells": [
  {
   "cell_type": "markdown",
   "metadata": {
    "id": "MhoQ0WE77laV"
   },
   "source": [
    "##### Copyright 2018 The TensorFlow Authors."
   ]
  },
  {
   "cell_type": "code",
   "execution_count": null,
   "metadata": {
    "cellView": "form",
    "execution": {
     "iopub.execute_input": "2022-02-05T02:23:03.647512Z",
     "iopub.status.busy": "2022-02-05T02:23:03.646954Z",
     "iopub.status.idle": "2022-02-05T02:23:03.649004Z",
     "shell.execute_reply": "2022-02-05T02:23:03.649341Z"
    },
    "id": "_ckMIh7O7s6D"
   },
   "outputs": [],
   "source": [
    "#@title Licensed under the Apache License, Version 2.0 (the \"License\");\n",
    "# you may not use this file except in compliance with the License.\n",
    "# You may obtain a copy of the License at\n",
    "#\n",
    "# https://www.apache.org/licenses/LICENSE-2.0\n",
    "#\n",
    "# Unless required by applicable law or agreed to in writing, software\n",
    "# distributed under the License is distributed on an \"AS IS\" BASIS,\n",
    "# WITHOUT WARRANTIES OR CONDITIONS OF ANY KIND, either express or implied.\n",
    "# See the License for the specific language governing permissions and\n",
    "# limitations under the License."
   ]
  },
  {
   "cell_type": "code",
   "execution_count": null,
   "metadata": {
    "cellView": "form",
    "execution": {
     "iopub.execute_input": "2022-02-05T02:23:03.653147Z",
     "iopub.status.busy": "2022-02-05T02:23:03.652534Z",
     "iopub.status.idle": "2022-02-05T02:23:03.654547Z",
     "shell.execute_reply": "2022-02-05T02:23:03.654144Z"
    },
    "id": "vasWnqRgy1H4"
   },
   "outputs": [],
   "source": [
    "#@title MIT License\n",
    "#\n",
    "# Copyright (c) 2017 François Chollet\n",
    "#\n",
    "# Permission is hereby granted, free of charge, to any person obtaining a\n",
    "# copy of this software and associated documentation files (the \"Software\"),\n",
    "# to deal in the Software without restriction, including without limitation\n",
    "# the rights to use, copy, modify, merge, publish, distribute, sublicense,\n",
    "# and/or sell copies of the Software, and to permit persons to whom the\n",
    "# Software is furnished to do so, subject to the following conditions:\n",
    "#\n",
    "# The above copyright notice and this permission notice shall be included in\n",
    "# all copies or substantial portions of the Software.\n",
    "#\n",
    "# THE SOFTWARE IS PROVIDED \"AS IS\", WITHOUT WARRANTY OF ANY KIND, EXPRESS OR\n",
    "# IMPLIED, INCLUDING BUT NOT LIMITED TO THE WARRANTIES OF MERCHANTABILITY,\n",
    "# FITNESS FOR A PARTICULAR PURPOSE AND NONINFRINGEMENT. IN NO EVENT SHALL\n",
    "# THE AUTHORS OR COPYRIGHT HOLDERS BE LIABLE FOR ANY CLAIM, DAMAGES OR OTHER\n",
    "# LIABILITY, WHETHER IN AN ACTION OF CONTRACT, TORT OR OTHERWISE, ARISING\n",
    "# FROM, OUT OF OR IN CONNECTION WITH THE SOFTWARE OR THE USE OR OTHER\n",
    "# DEALINGS IN THE SOFTWARE."
   ]
  },
  {
   "cell_type": "markdown",
   "metadata": {
    "id": "jYysdyb-CaWM"
   },
   "source": [
    "# Grundlegende Klassifizierung: Bilder von Kleidung bestimmen"
   ]
  },
  {
   "cell_type": "markdown",
   "metadata": {
    "id": "S5Uhzt6vVIB2"
   },
   "source": [
    "<table class=\"tfo-notebook-buttons\" align=\"left\">\n",
    "  <td>\n",
    "    <a target=\"_blank\" href=\"https://www.tensorflow.org/tutorials/keras/classification\"><img src=\"https://www.tensorflow.org/images/tf_logo_32px.png\" />View on TensorFlow.org</a>\n",
    "  </td>\n",
    "  <td>\n",
    "    <a target=\"_blank\" href=\"https://colab.research.google.com/github/tensorflow/docs/blob/master/site/en/tutorials/keras/classification.ipynb\"><img src=\"https://www.tensorflow.org/images/colab_logo_32px.png\" />Run in Google Colab</a>\n",
    "  </td>\n",
    "  <td>\n",
    "    <a target=\"_blank\" href=\"https://github.com/tensorflow/docs/blob/master/site/en/tutorials/keras/classification.ipynb\"><img src=\"https://www.tensorflow.org/images/GitHub-Mark-32px.png\" />View source on GitHub</a>\n",
    "  </td>\n",
    "  <td>\n",
    "    <a href=\"https://storage.googleapis.com/tensorflow_docs/docs/site/en/tutorials/keras/classification.ipynb\"><img src=\"https://www.tensorflow.org/images/download_logo_32px.png\" />Download notebook</a>\n",
    "  </td>\n",
    "</table>"
   ]
  },
  {
   "cell_type": "markdown",
   "metadata": {
    "id": "FbVhjPpzn6BM"
   },
   "source": [
    "In diesem Guide wird ein neuronales Netzwerkmodell trainiert, um Bilder von Kleidung, wie Turnschuhe und Hemden, zu klassifizieren. Wenn du nich alle Details verstehst ist das nicht schlimm. Dies ist ein kurzer Überblick über ein komplettes TensorFlow-Programm, bei dem die Details nach und nach erklärt werden.\n",
    "\n",
    "Es wird [tf.keras](https://www.tensorflow.org/guide/keras) als API verwendet."
   ]
  },
  {
   "cell_type": "code",
   "execution_count": null,
   "metadata": {
    "execution": {
     "iopub.execute_input": "2022-02-05T02:23:03.661948Z",
     "iopub.status.busy": "2022-02-05T02:23:03.661380Z",
     "iopub.status.idle": "2022-02-05T02:23:06.352001Z",
     "shell.execute_reply": "2022-02-05T02:23:06.352451Z"
    },
    "id": "dzLKpmZICaWN"
   },
   "outputs": [],
   "source": [
    "# TensorFlow and tf.keras\n",
    "import tensorflow as tf\n",
    "\n",
    "# Helper libraries\n",
    "import numpy as np\n",
    "import matplotlib.pyplot as plt\n",
    "\n",
    "print(tf.__version__)"
   ]
  },
  {
   "cell_type": "markdown",
   "metadata": {
    "id": "yR0EdgrLCaWR"
   },
   "source": [
    "## Daten importieren (Fashion MNIST)"
   ]
  },
  {
   "cell_type": "markdown",
   "metadata": {
    "id": "DLdCchMdCaWQ"
   },
   "source": [
    "Wir verwenden den [Fashion MNIST](https://github.com/zalandoresearch/fashion-mnist) Datensatz in welchem 70,000 schwarz-weiß Bilder in 10 Kategorien eingeteilt sind. die Bilder zeigen einzelne Kleidungsstücke in niedriger Auflösung (28 x 28 Pixel):\n",
    "\n",
    "<table>\n",
    "  <tr><td>\n",
    "    <img src=\"https://tensorflow.org/images/fashion-mnist-sprite.png\"\n",
    "         alt=\"Fashion MNIST sprite\"  width=\"600\">\n",
    "  </td></tr>\n",
    "  <tr><td align=\"center\">\n",
    "    <b>Bild 1.</b> <a href=\"https://github.com/zalandoresearch/fashion-mnist\">Fashion-MNIST Beispiel</a> (by Zalando, MIT License).<br/>&nbsp;\n",
    "  </td></tr>\n",
    "</table>"
   ]
  },
  {
   "cell_type": "code",
   "execution_count": null,
   "metadata": {
    "execution": {
     "iopub.execute_input": "2022-02-05T02:23:06.357055Z",
     "iopub.status.busy": "2022-02-05T02:23:06.356498Z",
     "iopub.status.idle": "2022-02-05T02:23:08.243268Z",
     "shell.execute_reply": "2022-02-05T02:23:08.243667Z"
    },
    "id": "7MqDQO0KCaWS"
   },
   "outputs": [],
   "source": [
    "fashion_mnist = tf.keras.datasets.fashion_mnist\n",
    "\n",
    "(train_images, train_labels), (test_images, test_labels) = fashion_mnist.load_data()"
   ]
  },
  {
   "cell_type": "markdown",
   "metadata": {
    "id": "t9FDsUlxCaWW"
   },
   "source": [
    "Die Bilder sind eingeteilt in *Labels*. Sie entsprechen der *Klasse* der Kleidung, welches das Bild darstellt:\n",
    "\n",
    "<table>\n",
    "  <tr>\n",
    "    <th>Label</th>\n",
    "    <th>Class</th>\n",
    "  </tr>\n",
    "  <tr>\n",
    "    <td>0</td>\n",
    "    <td>T-shirt/top</td>\n",
    "  </tr>\n",
    "  <tr>\n",
    "    <td>1</td>\n",
    "    <td>Trouser</td>\n",
    "  </tr>\n",
    "    <tr>\n",
    "    <td>2</td>\n",
    "    <td>Pullover</td>\n",
    "  </tr>\n",
    "    <tr>\n",
    "    <td>3</td>\n",
    "    <td>Dress</td>\n",
    "  </tr>\n",
    "    <tr>\n",
    "    <td>4</td>\n",
    "    <td>Coat</td>\n",
    "  </tr>\n",
    "    <tr>\n",
    "    <td>5</td>\n",
    "    <td>Sandal</td>\n",
    "  </tr>\n",
    "    <tr>\n",
    "    <td>6</td>\n",
    "    <td>Shirt</td>\n",
    "  </tr>\n",
    "    <tr>\n",
    "    <td>7</td>\n",
    "    <td>Sneaker</td>\n",
    "  </tr>\n",
    "    <tr>\n",
    "    <td>8</td>\n",
    "    <td>Bag</td>\n",
    "  </tr>\n",
    "    <tr>\n",
    "    <td>9</td>\n",
    "    <td>Ankle boot</td>\n",
    "  </tr>\n",
    "</table>\n",
    "\n",
    "Jedes Bild ist einer Kategorie(Label) zugeordnet."
   ]
  },
  {
   "cell_type": "code",
   "execution_count": null,
   "metadata": {
    "execution": {
     "iopub.execute_input": "2022-02-05T02:23:08.248025Z",
     "iopub.status.busy": "2022-02-05T02:23:08.247468Z",
     "iopub.status.idle": "2022-02-05T02:23:08.249506Z",
     "shell.execute_reply": "2022-02-05T02:23:08.249073Z"
    },
    "id": "IjnLH5S2CaWx"
   },
   "outputs": [],
   "source": [
    "class_names = ['T-shirt/top', 'Trouser', 'Pullover', 'Dress', 'Coat',\n",
    "               'Sandal', 'Shirt', 'Sneaker', 'Bag', 'Ankle boot']"
   ]
  },
  {
   "cell_type": "markdown",
   "metadata": {
    "id": "Brm0b_KACaWX"
   },
   "source": [
    "## Daten erkunden\n",
    "\n",
    "Schauen wir uns das Format des Datensatzes vor dem Training des Modells an. Die folgende Abbildung zeigt, dass der Trainingsdatensatz 60.000 Bilder enthält, wobei jedes Bild mit 28 x 28 Pixeln dargestellt wird:"
   ]
  },
  {
   "cell_type": "code",
   "execution_count": null,
   "metadata": {
    "execution": {
     "iopub.execute_input": "2022-02-05T02:23:08.255326Z",
     "iopub.status.busy": "2022-02-05T02:23:08.254721Z",
     "iopub.status.idle": "2022-02-05T02:23:08.257282Z",
     "shell.execute_reply": "2022-02-05T02:23:08.257646Z"
    },
    "id": "zW5k_xz1CaWX"
   },
   "outputs": [],
   "source": [
    "train_images.shape"
   ]
  },
  {
   "cell_type": "markdown",
   "metadata": {
    "id": "cIAcvQqMCaWf"
   },
   "source": [
    "Ebenso gibt es 60.000 Labels in den Trainingsdaten:"
   ]
  },
  {
   "cell_type": "code",
   "execution_count": null,
   "metadata": {
    "execution": {
     "iopub.execute_input": "2022-02-05T02:23:08.261663Z",
     "iopub.status.busy": "2022-02-05T02:23:08.261018Z",
     "iopub.status.idle": "2022-02-05T02:23:08.263268Z",
     "shell.execute_reply": "2022-02-05T02:23:08.263625Z"
    },
    "id": "TRFYHB2mCaWb"
   },
   "outputs": [],
   "source": [
    "len(train_labels)"
   ]
  },
  {
   "cell_type": "markdown",
   "metadata": {
    "id": "YSlYxFuRCaWk"
   },
   "source": [
    "Jedes Label ist einer Zahl von 0 bis 9 zugeordnet:"
   ]
  },
  {
   "cell_type": "code",
   "execution_count": null,
   "metadata": {
    "execution": {
     "iopub.execute_input": "2022-02-05T02:23:08.267860Z",
     "iopub.status.busy": "2022-02-05T02:23:08.267274Z",
     "iopub.status.idle": "2022-02-05T02:23:08.269783Z",
     "shell.execute_reply": "2022-02-05T02:23:08.270118Z"
    },
    "id": "XKnCTHz4CaWg"
   },
   "outputs": [],
   "source": [
    "train_labels"
   ]
  },
  {
   "cell_type": "markdown",
   "metadata": {
    "id": "TMPI88iZpO2T"
   },
   "source": [
    "Der Testsatz besteht aus 10.000 Bildern. Auch hier wird jedes Bild als 28 x 28 Pixel dargestellt:"
   ]
  },
  {
   "cell_type": "code",
   "execution_count": null,
   "metadata": {
    "execution": {
     "iopub.execute_input": "2022-02-05T02:23:08.273959Z",
     "iopub.status.busy": "2022-02-05T02:23:08.273317Z",
     "iopub.status.idle": "2022-02-05T02:23:08.275794Z",
     "shell.execute_reply": "2022-02-05T02:23:08.276131Z"
    },
    "id": "2KFnYlcwCaWl"
   },
   "outputs": [],
   "source": [
    "test_images.shape"
   ]
  },
  {
   "cell_type": "markdown",
   "metadata": {
    "id": "rd0A0Iu0CaWq"
   },
   "source": [
    "Und der Testsatz enthält 10.000 Bildbeschriftungen:"
   ]
  },
  {
   "cell_type": "code",
   "execution_count": null,
   "metadata": {
    "execution": {
     "iopub.execute_input": "2022-02-05T02:23:08.280012Z",
     "iopub.status.busy": "2022-02-05T02:23:08.279383Z",
     "iopub.status.idle": "2022-02-05T02:23:08.282069Z",
     "shell.execute_reply": "2022-02-05T02:23:08.281611Z"
    },
    "id": "iJmPr5-ACaWn"
   },
   "outputs": [],
   "source": [
    "len(test_labels)"
   ]
  },
  {
   "cell_type": "markdown",
   "metadata": {
    "id": "ES6uQoLKCaWr"
   },
   "source": [
    "## Daten vorbereiten\n",
    "\n",
    "Die Daten müssen vor dem Training des Netzes aufbereitet werden. Wenn du das erste Bild im Trainingssatz untersuchst, wirst du feststellen, dass die Pixelwerte in den Bereich von 0 bis 255 fallen:"
   ]
  },
  {
   "cell_type": "code",
   "execution_count": null,
   "metadata": {
    "execution": {
     "iopub.execute_input": "2022-02-05T02:23:08.288632Z",
     "iopub.status.busy": "2022-02-05T02:23:08.288086Z",
     "iopub.status.idle": "2022-02-05T02:23:08.491137Z",
     "shell.execute_reply": "2022-02-05T02:23:08.491535Z"
    },
    "id": "m4VEw8Ud9Quh"
   },
   "outputs": [],
   "source": [
    "plt.figure()\n",
    "plt.imshow(train_images[0])\n",
    "plt.colorbar()\n",
    "plt.grid(False)\n",
    "plt.show()"
   ]
  },
  {
   "cell_type": "markdown",
   "metadata": {
    "id": "Wz7l27Lz9S1P"
   },
   "source": [
    "Skaliere diese Werte auf einen Bereich von 0 bis 1, bevor du sie in das neuronale Netz eingibst. Teile dazu die Werte durch 255. Es ist wichtig, dass der Trainingssatz und der Testsatz auf dieselbe Weise vorverarbeitet werden:"
   ]
  },
  {
   "cell_type": "code",
   "execution_count": null,
   "metadata": {
    "execution": {
     "iopub.execute_input": "2022-02-05T02:23:08.495092Z",
     "iopub.status.busy": "2022-02-05T02:23:08.494541Z",
     "iopub.status.idle": "2022-02-05T02:23:08.649262Z",
     "shell.execute_reply": "2022-02-05T02:23:08.649716Z"
    },
    "id": "bW5WzIPlCaWv"
   },
   "outputs": [],
   "source": [
    "train_images = train_images / 255.0\n",
    "\n",
    "test_images = test_images / 255.0"
   ]
  },
  {
   "cell_type": "markdown",
   "metadata": {
    "id": "Ee638AlnCaWz"
   },
   "source": [
    "Um zu überprüfen, ob die Daten im richtigen Format vorliegen, zeigen wir die ersten 25 Bilder aus dem Trainingssatz an und geben den Klassennamen unter jedem Bild an."
   ]
  },
  {
   "cell_type": "code",
   "execution_count": null,
   "metadata": {
    "execution": {
     "iopub.execute_input": "2022-02-05T02:23:08.719166Z",
     "iopub.status.busy": "2022-02-05T02:23:08.718438Z",
     "iopub.status.idle": "2022-02-05T02:23:09.508634Z",
     "shell.execute_reply": "2022-02-05T02:23:09.509037Z"
    },
    "id": "oZTImqg_CaW1"
   },
   "outputs": [],
   "source": [
    "plt.figure(figsize=(10,10))\n",
    "for i in range(25):\n",
    "    plt.subplot(5,5,i+1)\n",
    "    plt.xticks([])\n",
    "    plt.yticks([])\n",
    "    plt.grid(False)\n",
    "    plt.imshow(train_images[i], cmap=plt.cm.binary)\n",
    "    plt.xlabel(class_names[train_labels[i]])\n",
    "plt.show()"
   ]
  },
  {
   "cell_type": "markdown",
   "metadata": {
    "id": "59veuiEZCaW4"
   },
   "source": [
    "## Model erstellen\n",
    "\n",
    "Damit wir das neuronale Netz erstellen können, müssen wir zuerst die einzelnen Schichten definieren."
   ]
  },
  {
   "cell_type": "markdown",
   "metadata": {
    "id": "Gxg1XGm0eOBy"
   },
   "source": [
    "### Ebenen konfigurieren\n",
    "\n",
    "Der Basis eines neuronalen Netzes ist ein [*Layer*] (https://www.tensorflow.org/api_docs/python/tf/keras/layers). Diese Schichten verarbeiten verschiedene Informationen der Daten. \n",
    "\n",
    "Der Großteil des Deep Learning besteht aus der Verkettung einfacher Schichten. Die meisten Schichten, wie z. B. `tf.keras.layers.Dense`, ermöglichen das Lernen während des Trainings."
   ]
  },
  {
   "cell_type": "code",
   "execution_count": null,
   "metadata": {
    "execution": {
     "iopub.execute_input": "2022-02-05T02:23:09.515540Z",
     "iopub.status.busy": "2022-02-05T02:23:09.514954Z",
     "iopub.status.idle": "2022-02-05T02:23:11.016295Z",
     "shell.execute_reply": "2022-02-05T02:23:11.015745Z"
    },
    "id": "9ODch-OFCaW4"
   },
   "outputs": [],
   "source": [
    "model = tf.keras.Sequential([\n",
    "    tf.keras.layers.Flatten(input_shape=(28, 28)),\n",
    "    tf.keras.layers.Dense(128, activation='relu'),\n",
    "    tf.keras.layers.Dense(10)\n",
    "])"
   ]
  },
  {
   "cell_type": "markdown",
   "metadata": {
    "id": "gut8A_7rCaW6"
   },
   "source": [
    "Die erste Schicht in diesem Netzwerk, tf.keras.layers.Flatten, wandelt das Format der Bilder von einem zweidimensionalen Array (mit 28 mal 28 Pixeln) in ein eindimensionales Array (mit 28 * 28 = 784 Pixeln) um. Stelle dir diese Ebene so vor, dass die Pixelreihen im Bild auseinander genommen und aneinandergereiht werden. Diese Ebene formatiert die Daten neu.\n",
    "\n",
    "Nachdem die Pixel \"geglättet\" wurden, besteht das Netz aus einer Folge von zwei \"tf.keras.layers.Dense\"-Schichten. Dies sind verbundene neuronale Schichten. Die erste \"Dense\"-Schicht hat 128 Knoten (oder Neuronen). Die zweite (und letzte) Schicht gibt ein logits-Array mit einer Länge von 10 zurück. Jeder Knoten enthält eine Punktzahl, die angibt, dass das aktuelle Bild zu einer der 10 Klassen gehört.\n",
    "\n",
    "### Erstelle das Modell\n",
    "\n",
    "Bevor das Modell für das Training bereit ist, benötigt es noch ein paar Einstellungen. Diese werden bei der Erstellung des Modells hinzugefügt  [*compile*](https://www.tensorflow.org/api_docs/python/tf/keras/Model#compile) step:\n",
    "\n",
    "* [*Loss function*](https://www.tensorflow.org/api_docs/python/tf/keras/losses) —Damit wird gemessen, wie genau das Modell während des Trainings ist. Wir möchten diese Funktion minimieren, um das Modell in die richtige Richtung zu \"lenken\"..\n",
    "* [*Optimizer*](https://www.tensorflow.org/api_docs/python/tf/keras/optimizers) —Dient der Verbesserung des Modells.\n",
    "* [*Metrics*](https://www.tensorflow.org/api_docs/python/tf/keras/metrics) —Dient zur Überwachung der Trainings- und Testschritte. Im folgenden Beispiel wird die *Genauigkeit* verwendet, d. h. der Anteil der Bilder, die korrekt klassifiziert wurden."
   ]
  },
  {
   "cell_type": "code",
   "execution_count": null,
   "metadata": {
    "execution": {
     "iopub.execute_input": "2022-02-05T02:23:11.023505Z",
     "iopub.status.busy": "2022-02-05T02:23:11.022906Z",
     "iopub.status.idle": "2022-02-05T02:23:11.028191Z",
     "shell.execute_reply": "2022-02-05T02:23:11.027758Z"
    },
    "id": "Lhan11blCaW7"
   },
   "outputs": [],
   "source": [
    "model.compile(optimizer='adam',\n",
    "              loss=tf.keras.losses.SparseCategoricalCrossentropy(from_logits=True),\n",
    "              metrics=['accuracy'])"
   ]
  },
  {
   "cell_type": "markdown",
   "metadata": {
    "id": "qKF6uW-BCaW-"
   },
   "source": [
    "## Trainiere das Modell\n",
    "\n",
    "Das Training des neuronalen Netzmodells erfordert folgende Schritte:\n",
    "\n",
    "1. Gebe die Trainingsdaten an das Modell weiter. In diesem Beispiel befinden sich die Trainingsdaten in den Arrays `train_images` und `train_labels`.\n",
    "2. Das Modell lernt, Bilder und Bezeichnungen zuzuordnen.\n",
    "3. Das Model beginnt Vorhersagen über einen Testsatz zu machen - in diesem Beispiel das Array \"test_images\".\n",
    "4. Überprüfe, ob die Vorhersagen mit den Bezeichnungen aus dem Array \"test_labels\" übereinstimmen.\n"
   ]
  },
  {
   "cell_type": "markdown",
   "metadata": {
    "id": "Z4P4zIV7E28Z"
   },
   "source": [
    "### Fütter das Modell mit Daten\n",
    "\n",
    "Rufe [`model.fit`](https://www.tensorflow.org/api_docs/python/tf/keras/Model#fit) auf, damit das Training gestartet wird."
   ]
  },
  {
   "cell_type": "code",
   "execution_count": null,
   "metadata": {
    "execution": {
     "iopub.execute_input": "2022-02-05T02:23:11.032563Z",
     "iopub.status.busy": "2022-02-05T02:23:11.031996Z",
     "iopub.status.idle": "2022-02-05T02:23:45.127248Z",
     "shell.execute_reply": "2022-02-05T02:23:45.126760Z"
    },
    "id": "xvwvpA64CaW_"
   },
   "outputs": [],
   "source": [
    "model.fit(train_images, train_labels, epochs=10)"
   ]
  },
  {
   "cell_type": "markdown",
   "metadata": {
    "id": "W3ZVOhugCaXA"
   },
   "source": [
    "Während das Modell trainiert, werden die Verlust- und Genauigkeitsmetriken angezeigt. Dieses Modell erreicht eine Genauigkeit von etwa 0,91 (oder 91 %) bei den Trainingsdaten."
   ]
  },
  {
   "cell_type": "markdown",
   "metadata": {
    "id": "wCpr6DGyE28h"
   },
   "source": [
    "### Bewerte die Genauigkeit\n",
    "\n",
    "Vergleiche anschließend, wie das Modell im Testdatensatz abschneidet:"
   ]
  },
  {
   "cell_type": "code",
   "execution_count": null,
   "metadata": {
    "execution": {
     "iopub.execute_input": "2022-02-05T02:23:45.131545Z",
     "iopub.status.busy": "2022-02-05T02:23:45.130989Z",
     "iopub.status.idle": "2022-02-05T02:23:45.773332Z",
     "shell.execute_reply": "2022-02-05T02:23:45.773676Z"
    },
    "id": "VflXLEeECaXC"
   },
   "outputs": [],
   "source": [
    "test_loss, test_acc = model.evaluate(test_images,  test_labels, verbose=2)\n",
    "\n",
    "print('\\nTest accuracy:', test_acc)"
   ]
  },
  {
   "cell_type": "markdown",
   "metadata": {
    "id": "yWfgsmVXCaXG"
   },
   "source": [
    "Es stellt sich heraus, dass die Genauigkeit im Testdatensatz etwas geringer ist als die Genauigkeit im Trainingsdatensatz. Diese Diskrepanz zwischen Trainingsgenauigkeit und Testgenauigkeit stellt eine Überanpassung dar. Eine Überanpassung liegt vor, wenn ein Modell für maschinelles Lernen bei neuen, zuvor unbekannten Eingaben schlechter abschneidet als bei den Trainingsdaten. Ein überangepasstes Modell \"merkt\" sich das Rauschen und die Details im Trainingsdatensatz bis zu einem Punkt, an dem es sich negativ auf die Leistung des Modells bei den neuen Daten auswirkt. Weitere Informationen finden Sie im Folgenden:\n",
    "\n",
    "*   [Überanpassung/Overfitting](https://www.tensorflow.org/tutorials/keras/overfit_and_underfit#demonstrate_overfitting)\n",
    "*   [Vermeidung von Überanpassung](https://www.tensorflow.org/tutorials/keras/overfit_and_underfit#strategies_to_prevent_overfitting)"
   ]
  },
  {
   "cell_type": "markdown",
   "metadata": {
    "id": "v-PyD1SYE28q"
   },
   "source": [
    "### Treffe Vorhersagen\n",
    "\n",
    "Nachdem das Modell trainiert wurde, können wir damit Vorhersagen über einige Bilder treffen.\n",
    "Füge eine Softmax-Schicht hinzu, um die linearen Ausgaben des Modells - [logits](https://developers.google.com/machine-learning/glossary#logits) - in Wahrscheinlichkeiten umzuwandeln, die leichter zu interpretieren sein sollten."
   ]
  },
  {
   "cell_type": "code",
   "execution_count": null,
   "metadata": {
    "execution": {
     "iopub.execute_input": "2022-02-05T02:23:45.778940Z",
     "iopub.status.busy": "2022-02-05T02:23:45.778310Z",
     "iopub.status.idle": "2022-02-05T02:23:45.792392Z",
     "shell.execute_reply": "2022-02-05T02:23:45.792727Z"
    },
    "id": "DnfNA0CrQLSD"
   },
   "outputs": [],
   "source": [
    "probability_model = tf.keras.Sequential([model, \n",
    "                                         tf.keras.layers.Softmax()])"
   ]
  },
  {
   "cell_type": "code",
   "execution_count": null,
   "metadata": {
    "execution": {
     "iopub.execute_input": "2022-02-05T02:23:45.796585Z",
     "iopub.status.busy": "2022-02-05T02:23:45.796041Z",
     "iopub.status.idle": "2022-02-05T02:23:46.217066Z",
     "shell.execute_reply": "2022-02-05T02:23:46.217474Z"
    },
    "id": "Gl91RPhdCaXI"
   },
   "outputs": [],
   "source": [
    "predictions = probability_model.predict(test_images)"
   ]
  },
  {
   "cell_type": "markdown",
   "metadata": {
    "id": "x9Kk1voUCaXJ"
   },
   "source": [
    "Hier hat das Modell die Bezeichnung für jedes Bild in der Testgruppe vorhergesagt. Werfen wir einen Blick auf die erste Vorhersage:"
   ]
  },
  {
   "cell_type": "code",
   "execution_count": null,
   "metadata": {
    "execution": {
     "iopub.execute_input": "2022-02-05T02:23:46.222583Z",
     "iopub.status.busy": "2022-02-05T02:23:46.221954Z",
     "iopub.status.idle": "2022-02-05T02:23:46.224500Z",
     "shell.execute_reply": "2022-02-05T02:23:46.224882Z"
    },
    "id": "3DmJEUinCaXK"
   },
   "outputs": [],
   "source": [
    "predictions[0]"
   ]
  },
  {
   "cell_type": "markdown",
   "metadata": {
    "id": "-hw1hgeSCaXN"
   },
   "source": [
    "Eine Vorhersage ist eine Reihe von 10 Zahlen. Sie stellen die \"Zuversicht\" des Modells dar, dass das Bild mit jedem der 10 verschiedenen Kleidungsstücke übereinstimmt. Wir können sehen, welches Etikett den höchsten Vertrauenswert hat:"
   ]
  },
  {
   "cell_type": "code",
   "execution_count": null,
   "metadata": {
    "execution": {
     "iopub.execute_input": "2022-02-05T02:23:46.229202Z",
     "iopub.status.busy": "2022-02-05T02:23:46.228668Z",
     "iopub.status.idle": "2022-02-05T02:23:46.230873Z",
     "shell.execute_reply": "2022-02-05T02:23:46.231256Z"
    },
    "id": "qsqenuPnCaXO"
   },
   "outputs": [],
   "source": [
    "np.argmax(predictions[0])"
   ]
  },
  {
   "cell_type": "markdown",
   "metadata": {
    "id": "E51yS7iCCaXO"
   },
   "source": [
    "Das Modell ist also sehr zuversichtlich, dass es sich bei diesem Bild um eine Stiefelette handelt, oder `class_names[9]`. Die Prüfung des Testetiketts zeigt, dass diese Klassifizierung richtig ist:"
   ]
  },
  {
   "cell_type": "code",
   "execution_count": null,
   "metadata": {
    "execution": {
     "iopub.execute_input": "2022-02-05T02:23:46.235327Z",
     "iopub.status.busy": "2022-02-05T02:23:46.234746Z",
     "iopub.status.idle": "2022-02-05T02:23:46.237338Z",
     "shell.execute_reply": "2022-02-05T02:23:46.237702Z"
    },
    "id": "Sd7Pgsu6CaXP"
   },
   "outputs": [],
   "source": [
    "test_labels[0]"
   ]
  },
  {
   "cell_type": "markdown",
   "metadata": {
    "id": "ygh2yYC972ne"
   },
   "source": [
    "Stelle dies grafisch dar, um den vollständigen Satz von 10 Klassenvorhersagen zu betrachten."
   ]
  },
  {
   "cell_type": "code",
   "execution_count": null,
   "metadata": {
    "execution": {
     "iopub.execute_input": "2022-02-05T02:23:46.244767Z",
     "iopub.status.busy": "2022-02-05T02:23:46.244181Z",
     "iopub.status.idle": "2022-02-05T02:23:46.246387Z",
     "shell.execute_reply": "2022-02-05T02:23:46.245908Z"
    },
    "id": "DvYmmrpIy6Y1"
   },
   "outputs": [],
   "source": [
    "def plot_image(i, predictions_array, true_label, img):\n",
    "  true_label, img = true_label[i], img[i]\n",
    "  plt.grid(False)\n",
    "  plt.xticks([])\n",
    "  plt.yticks([])\n",
    "\n",
    "  plt.imshow(img, cmap=plt.cm.binary)\n",
    "\n",
    "  predicted_label = np.argmax(predictions_array)\n",
    "  if predicted_label == true_label:\n",
    "    color = 'blue'\n",
    "  else:\n",
    "    color = 'red'\n",
    "\n",
    "  plt.xlabel(\"{} {:2.0f}% ({})\".format(class_names[predicted_label],\n",
    "                                100*np.max(predictions_array),\n",
    "                                class_names[true_label]),\n",
    "                                color=color)\n",
    "\n",
    "def plot_value_array(i, predictions_array, true_label):\n",
    "  true_label = true_label[i]\n",
    "  plt.grid(False)\n",
    "  plt.xticks(range(10))\n",
    "  plt.yticks([])\n",
    "  thisplot = plt.bar(range(10), predictions_array, color=\"#777777\")\n",
    "  plt.ylim([0, 1])\n",
    "  predicted_label = np.argmax(predictions_array)\n",
    "\n",
    "  thisplot[predicted_label].set_color('red')\n",
    "  thisplot[true_label].set_color('blue')"
   ]
  },
  {
   "cell_type": "markdown",
   "metadata": {
    "id": "Zh9yABaME29S"
   },
   "source": [
    "### Vorhersagen überprüfen\n",
    "\n",
    "With the model trained, you can use it to make predictions about some images.\n",
    "Nun können wir das Modell Vorhersagen treffen lassen. Wir prüfen ob unser Model anhand eines neuen Bildes sagen kann, was für ein Kleigundsstück es ist."
   ]
  },
  {
   "cell_type": "markdown",
   "metadata": {
    "id": "d4Ov9OFDMmOD"
   },
   "source": [
    "Schauen wir uns das erste Bild an (Nummer 0). Richtige Vorhersagen sind blau und falsche Vorhersagen sind rot. Die Zahl gibt den Prozentsatz (von 100) für die Vorhersage an."
   ]
  },
  {
   "cell_type": "code",
   "execution_count": null,
   "metadata": {
    "execution": {
     "iopub.execute_input": "2022-02-05T02:23:46.285608Z",
     "iopub.status.busy": "2022-02-05T02:23:46.285071Z",
     "iopub.status.idle": "2022-02-05T02:23:46.364057Z",
     "shell.execute_reply": "2022-02-05T02:23:46.364410Z"
    },
    "id": "HV5jw-5HwSmO"
   },
   "outputs": [],
   "source": [
    "i = 0\n",
    "plt.figure(figsize=(6,3))\n",
    "plt.subplot(1,2,1)\n",
    "plot_image(i, predictions[i], test_labels, test_images)\n",
    "plt.subplot(1,2,2)\n",
    "plot_value_array(i, predictions[i],  test_labels)\n",
    "plt.show()"
   ]
  },
  {
   "cell_type": "code",
   "execution_count": null,
   "metadata": {
    "execution": {
     "iopub.execute_input": "2022-02-05T02:23:46.395590Z",
     "iopub.status.busy": "2022-02-05T02:23:46.386856Z",
     "iopub.status.idle": "2022-02-05T02:23:46.477744Z",
     "shell.execute_reply": "2022-02-05T02:23:46.478119Z"
    },
    "id": "Ko-uzOufSCSe"
   },
   "outputs": [],
   "source": [
    "i = 12\n",
    "plt.figure(figsize=(6,3))\n",
    "plt.subplot(1,2,1)\n",
    "plot_image(i, predictions[i], test_labels, test_images)\n",
    "plt.subplot(1,2,2)\n",
    "plot_value_array(i, predictions[i],  test_labels)\n",
    "plt.show()"
   ]
  },
  {
   "cell_type": "markdown",
   "metadata": {
    "id": "kgdvGD52CaXR"
   },
   "source": [
    "Stellen wir mehrere Bilder mit ihren Vorhersagen dar. Beachte, dass das Modell auch dann falsch sein kann, wenn es sehr zuverlässig ist."
   ]
  },
  {
   "cell_type": "code",
   "execution_count": null,
   "metadata": {
    "execution": {
     "iopub.execute_input": "2022-02-05T02:23:46.495208Z",
     "iopub.status.busy": "2022-02-05T02:23:46.494656Z",
     "iopub.status.idle": "2022-02-05T02:23:48.120493Z",
     "shell.execute_reply": "2022-02-05T02:23:48.120884Z"
    },
    "id": "hQlnbqaw2Qu_"
   },
   "outputs": [],
   "source": [
    "# Plot the first X test images, their predicted labels, and the true labels.\n",
    "# Color correct predictions in blue and incorrect predictions in red.\n",
    "num_rows = 5\n",
    "num_cols = 3\n",
    "num_images = num_rows*num_cols\n",
    "plt.figure(figsize=(2*2*num_cols, 2*num_rows))\n",
    "for i in range(num_images):\n",
    "  plt.subplot(num_rows, 2*num_cols, 2*i+1)\n",
    "  plot_image(i, predictions[i], test_labels, test_images)\n",
    "  plt.subplot(num_rows, 2*num_cols, 2*i+2)\n",
    "  plot_value_array(i, predictions[i], test_labels)\n",
    "plt.tight_layout()\n",
    "plt.show()"
   ]
  },
  {
   "cell_type": "markdown",
   "metadata": {
    "id": "R32zteKHCaXT"
   },
   "source": [
    "## Verwende das trainierte Modell\n",
    "\n",
    "Schließlich verwenden wir das trainierte Modell, um eine Vorhersage für ein einzelnes Bild zu treffen."
   ]
  },
  {
   "cell_type": "code",
   "execution_count": null,
   "metadata": {
    "execution": {
     "iopub.execute_input": "2022-02-05T02:23:48.124975Z",
     "iopub.status.busy": "2022-02-05T02:23:48.124437Z",
     "iopub.status.idle": "2022-02-05T02:23:48.126215Z",
     "shell.execute_reply": "2022-02-05T02:23:48.126580Z"
    },
    "id": "yRJ7JU7JCaXT"
   },
   "outputs": [],
   "source": [
    "# Grab an image from the test dataset.\n",
    "img = test_images[1]\n",
    "\n",
    "print(img.shape)"
   ]
  },
  {
   "cell_type": "markdown",
   "metadata": {
    "id": "vz3bVp21CaXV"
   },
   "source": [
    "Mit `tf.keras` können wir auch viele Bilder auf einmal verarbeiten."
   ]
  },
  {
   "cell_type": "code",
   "execution_count": null,
   "metadata": {
    "execution": {
     "iopub.execute_input": "2022-02-05T02:23:48.130399Z",
     "iopub.status.busy": "2022-02-05T02:23:48.129816Z",
     "iopub.status.idle": "2022-02-05T02:23:48.132539Z",
     "shell.execute_reply": "2022-02-05T02:23:48.131963Z"
    },
    "id": "lDFh5yF_CaXW"
   },
   "outputs": [],
   "source": [
    "# Add the image to a batch where it's the only member.\n",
    "img = (np.expand_dims(img,0))\n",
    "\n",
    "print(img.shape)"
   ]
  },
  {
   "cell_type": "markdown",
   "metadata": {
    "id": "EQ5wLTkcCaXY"
   },
   "source": [
    "Jetzt bestimmen wir die Kategorie"
   ]
  },
  {
   "cell_type": "code",
   "execution_count": null,
   "metadata": {
    "execution": {
     "iopub.execute_input": "2022-02-05T02:23:48.136943Z",
     "iopub.status.busy": "2022-02-05T02:23:48.136102Z",
     "iopub.status.idle": "2022-02-05T02:23:48.174620Z",
     "shell.execute_reply": "2022-02-05T02:23:48.175042Z"
    },
    "id": "o_rzNSdrCaXY"
   },
   "outputs": [],
   "source": [
    "predictions_single = probability_model.predict(img)\n",
    "\n",
    "print(predictions_single)"
   ]
  },
  {
   "cell_type": "code",
   "execution_count": null,
   "metadata": {
    "execution": {
     "iopub.execute_input": "2022-02-05T02:23:48.209829Z",
     "iopub.status.busy": "2022-02-05T02:23:48.188654Z",
     "iopub.status.idle": "2022-02-05T02:23:48.261300Z",
     "shell.execute_reply": "2022-02-05T02:23:48.261992Z"
    },
    "id": "6Ai-cpLjO-3A"
   },
   "outputs": [],
   "source": [
    "plot_value_array(1, predictions_single[0], test_labels)\n",
    "_ = plt.xticks(range(10), class_names, rotation=45)\n",
    "plt.show()"
   ]
  },
  {
   "cell_type": "markdown",
   "metadata": {
    "id": "cU1Y2OAMCaXb"
   },
   "source": [
    "`tf.keras.Model.predict` gibt eine Liste von Listen zurück - eine Liste für jedes Bild im Datenstapel. Erfasse die Vorhersagen für unser (einziges) Bild im Stapel:"
   ]
  },
  {
   "cell_type": "code",
   "execution_count": null,
   "metadata": {
    "execution": {
     "iopub.execute_input": "2022-02-05T02:23:48.267791Z",
     "iopub.status.busy": "2022-02-05T02:23:48.266710Z",
     "iopub.status.idle": "2022-02-05T02:23:48.270407Z",
     "shell.execute_reply": "2022-02-05T02:23:48.271167Z"
    },
    "id": "2tRmdq_8CaXb"
   },
   "outputs": [],
   "source": [
    "np.argmax(predictions_single[0])"
   ]
  },
  {
   "cell_type": "markdown",
   "metadata": {
    "id": "YFc2HbEVCaXd"
   },
   "source": []
  }
 ],
 "metadata": {
  "colab": {
   "collapsed_sections": [],
   "name": "classification.ipynb",
   "toc_visible": true
  },
  "kernelspec": {
   "display_name": "Python 3",
   "language": "python",
   "name": "python3"
  },
  "language_info": {
   "codemirror_mode": {
    "name": "ipython",
    "version": 3
   },
   "file_extension": ".py",
   "mimetype": "text/x-python",
   "name": "python",
   "nbconvert_exporter": "python",
   "pygments_lexer": "ipython3",
   "version": "3.6.13"
  }
 },
 "nbformat": 4,
 "nbformat_minor": 1
}
