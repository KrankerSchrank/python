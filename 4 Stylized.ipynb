{
 "cells": [
  {
   "cell_type": "markdown",
   "metadata": {
    "id": "ScitaPqhKtuW"
   },
   "source": [
    "##### Copyright 2019 The TensorFlow Hub Authors.\n",
    "\n",
    "Licensed under the Apache License, Version 2.0 (the \"License\");"
   ]
  },
  {
   "cell_type": "code",
   "execution_count": null,
   "metadata": {
    "execution": {
     "iopub.execute_input": "2022-04-27T12:47:57.136763Z",
     "iopub.status.busy": "2022-04-27T12:47:57.136329Z",
     "iopub.status.idle": "2022-04-27T12:47:57.140154Z",
     "shell.execute_reply": "2022-04-27T12:47:57.139682Z"
    },
    "id": "jvztxQ6VsK2k"
   },
   "outputs": [],
   "source": [
    "# Copyright 2019 The TensorFlow Hub Authors. All Rights Reserved.\n",
    "#\n",
    "# Licensed under the Apache License, Version 2.0 (the \"License\");\n",
    "# you may not use this file except in compliance with the License.\n",
    "# You may obtain a copy of the License at\n",
    "#\n",
    "#     http://www.apache.org/licenses/LICENSE-2.0\n",
    "#\n",
    "# Unless required by applicable law or agreed to in writing, software\n",
    "# distributed under the License is distributed on an \"AS IS\" BASIS,\n",
    "# WITHOUT WARRANTIES OR CONDITIONS OF ANY KIND, either express or implied.\n",
    "# See the License for the specific language governing permissions and\n",
    "# limitations under the License.\n",
    "# =============================================================================="
   ]
  },
  {
   "cell_type": "markdown",
   "metadata": {
    "id": "oXlcl8lqBgAD"
   },
   "source": [
    "# Schnelle Stilübertragung für beliebige Stile\n"
   ]
  },
  {
   "cell_type": "markdown",
   "metadata": {
    "id": "MfBg1C5NB3X0"
   },
   "source": [
    "<table class=\"tfo-notebook-buttons\" align=\"left\">\n",
    "  <td>\n",
    "    <a target=\"_blank\" href=\"https://www.tensorflow.org/hub/tutorials/tf2_arbitrary_image_stylization\"><img src=\"https://www.tensorflow.org/images/tf_logo_32px.png\" />View on TensorFlow.org</a>\n",
    "  </td>\n",
    "  <td>\n",
    "    <a target=\"_blank\" href=\"https://colab.research.google.com/github/tensorflow/hub/blob/master/examples/colab/tf2_arbitrary_image_stylization.ipynb\"><img src=\"https://www.tensorflow.org/images/colab_logo_32px.png\" />Run in Google Colab</a>\n",
    "  </td>\n",
    "  <td>\n",
    "    <a target=\"_blank\" href=\"https://github.com/tensorflow/hub/blob/master/examples/colab/tf2_arbitrary_image_stylization.ipynb\"><img src=\"https://www.tensorflow.org/images/GitHub-Mark-32px.png\" />View on GitHub</a>\n",
    "  </td>\n",
    "  <td>\n",
    "    <a href=\"https://storage.googleapis.com/tensorflow_docs/hub/examples/colab/tf2_arbitrary_image_stylization.ipynb\"><img src=\"https://www.tensorflow.org/images/download_logo_32px.png\" />Download notebook</a>\n",
    "  </td>\n",
    "  <td>\n",
    "    <a href=\"https://tfhub.dev/google/magenta/arbitrary-image-stylization-v1-256/2\"><img src=\"https://www.tensorflow.org/images/hub_logo_32px.png\" />See TF Hub model</a>\n",
    "  </td>\n",
    "</table>"
   ]
  },
  {
   "cell_type": "markdown",
   "metadata": {
    "id": "YeeuYzbZcJzs"
   },
   "source": [
    "[Exploring the structure of a real-time, arbitrary neural artistic stylization\n",
    "network](https://arxiv.org/abs/1705.06830).\n",
    "*Golnaz Ghiasi, Honglak Lee,\n",
    "Manjunath Kudlur, Vincent Dumoulin, Jonathon Shlens*,\n",
    "Proceedings of the British Machine Vision Conference (BMVC), 2017.\n"
   ]
  },
  {
   "cell_type": "markdown",
   "metadata": {
    "id": "TaM8BVxrCA2E"
   },
   "source": [
    "## Setup"
   ]
  },
  {
   "cell_type": "markdown",
   "metadata": {
    "id": "J65jog2ncJzt"
   },
   "source": [
    "Beginnen wir mit dem Import von TF2 und allen relevanten Abhängigkeiten."
   ]
  },
  {
   "cell_type": "code",
   "execution_count": null,
   "metadata": {
    "execution": {
     "iopub.execute_input": "2022-04-27T12:47:57.143838Z",
     "iopub.status.busy": "2022-04-27T12:47:57.143450Z",
     "iopub.status.idle": "2022-04-27T12:47:59.553641Z",
     "shell.execute_reply": "2022-04-27T12:47:59.553034Z"
    },
    "id": "v-KXRY5XBu2u"
   },
   "outputs": [],
   "source": [
    "import functools\n",
    "import os\n",
    "\n",
    "from matplotlib import gridspec\n",
    "import matplotlib.pylab as plt\n",
    "import numpy as np\n",
    "import tensorflow as tf\n",
    "import tensorflow_hub as hub\n",
    "\n",
    "print(\"TF Version: \", tf.__version__)\n",
    "print(\"TF Hub version: \", hub.__version__)\n",
    "print(\"Eager mode enabled: \", tf.executing_eagerly())\n",
    "print(\"GPU available: \", tf.config.list_physical_devices('GPU'))"
   ]
  },
  {
   "cell_type": "code",
   "execution_count": null,
   "metadata": {
    "execution": {
     "iopub.execute_input": "2022-04-27T12:47:59.579070Z",
     "iopub.status.busy": "2022-04-27T12:47:59.578871Z",
     "iopub.status.idle": "2022-04-27T12:47:59.587487Z",
     "shell.execute_reply": "2022-04-27T12:47:59.586968Z"
    },
    "id": "tsoDv_9geoZn"
   },
   "outputs": [],
   "source": [
    "# @title Define image loading and visualization functions  { display-mode: \"form\" }\n",
    "\n",
    "def crop_center(image):\n",
    "  \"\"\"Returns a cropped square image.\"\"\"\n",
    "  shape = image.shape\n",
    "  new_shape = min(shape[1], shape[2])\n",
    "  offset_y = max(shape[1] - shape[2], 0) // 2\n",
    "  offset_x = max(shape[2] - shape[1], 0) // 2\n",
    "  image = tf.image.crop_to_bounding_box(\n",
    "      image, offset_y, offset_x, new_shape, new_shape)\n",
    "  return image\n",
    "\n",
    "@functools.lru_cache(maxsize=None)\n",
    "def load_image(image_url, image_size=(256, 256), preserve_aspect_ratio=True):\n",
    "  \"\"\"Loads and preprocesses images.\"\"\"\n",
    "  # Cache image file locally.\n",
    "  image_path = tf.keras.utils.get_file(os.path.basename(image_url)[-128:], image_url)\n",
    "  # Load and convert to float32 numpy array, add batch dimension, and normalize to range [0, 1].\n",
    "  img = tf.io.decode_image(\n",
    "      tf.io.read_file(image_path),\n",
    "      channels=3, dtype=tf.float32)[tf.newaxis, ...]\n",
    "  img = crop_center(img)\n",
    "  img = tf.image.resize(img, image_size, preserve_aspect_ratio=True)\n",
    "  return img\n",
    "\n",
    "def show_n(images, titles=('',)):\n",
    "  n = len(images)\n",
    "  image_sizes = [image.shape[1] for image in images]\n",
    "  w = (image_sizes[0] * 6) // 320\n",
    "  plt.figure(figsize=(w * n, w))\n",
    "  gs = gridspec.GridSpec(1, n, width_ratios=image_sizes)\n",
    "  for i in range(n):\n",
    "    plt.subplot(gs[i])\n",
    "    plt.imshow(images[i][0], aspect='equal')\n",
    "    plt.axis('off')\n",
    "    plt.title(titles[i] if len(titles) > i else '')\n",
    "  plt.show()\n"
   ]
  },
  {
   "cell_type": "markdown",
   "metadata": {
    "id": "8etHh05-CJHc"
   },
   "source": [
    "Wir werden auch einige Bilder zum Spielen bekommen."
   ]
  },
  {
   "cell_type": "code",
   "execution_count": null,
   "metadata": {
    "execution": {
     "iopub.execute_input": "2022-04-27T12:47:59.590600Z",
     "iopub.status.busy": "2022-04-27T12:47:59.590162Z",
     "iopub.status.idle": "2022-04-27T12:48:03.798665Z",
     "shell.execute_reply": "2022-04-27T12:48:03.798025Z"
    },
    "id": "dRc0vat3Alzo"
   },
   "outputs": [],
   "source": [
    "# @title Load example images  { display-mode: \"form\" }\n",
    "\n",
    "content_image_url = 'https://upload.wikimedia.org/wikipedia/commons/thumb/f/fd/Golden_Gate_Bridge_from_Battery_Spencer.jpg/640px-Golden_Gate_Bridge_from_Battery_Spencer.jpg'  # @param {type:\"string\"}\n",
    "style_image_url = 'https://upload.wikimedia.org/wikipedia/commons/0/0a/The_Great_Wave_off_Kanagawa.jpg'  # @param {type:\"string\"}\n",
    "output_image_size = 384  # @param {type:\"integer\"}\n",
    "\n",
    "# The content image size can be arbitrary.\n",
    "content_img_size = (output_image_size, output_image_size)\n",
    "# The style prediction model was trained with image size 256 and it's the \n",
    "# recommended image size for the style image (though, other sizes work as \n",
    "# well but will lead to different results).\n",
    "style_img_size = (256, 256)  # Recommended to keep it at 256.\n",
    "\n",
    "content_image = load_image(content_image_url, content_img_size)\n",
    "style_image = load_image(style_image_url, style_img_size)\n",
    "style_image = tf.nn.avg_pool(style_image, ksize=[3,3], strides=[1,1], padding='SAME')\n",
    "show_n([content_image, style_image], ['Content image', 'Style image'])"
   ]
  },
  {
   "cell_type": "markdown",
   "metadata": {
    "id": "yL2Bn5ThR1nY"
   },
   "source": [
    "## Importiere TF Hub Modul"
   ]
  },
  {
   "cell_type": "code",
   "execution_count": null,
   "metadata": {
    "execution": {
     "iopub.execute_input": "2022-04-27T12:48:03.808287Z",
     "iopub.status.busy": "2022-04-27T12:48:03.807702Z",
     "iopub.status.idle": "2022-04-27T12:48:06.379137Z",
     "shell.execute_reply": "2022-04-27T12:48:06.378501Z"
    },
    "id": "467AVDSuzBPc"
   },
   "outputs": [],
   "source": [
    "# Load TF Hub module.\n",
    "\n",
    "hub_handle = 'https://tfhub.dev/google/magenta/arbitrary-image-stylization-v1-256/2'\n",
    "hub_module = hub.load(hub_handle)"
   ]
  },
  {
   "cell_type": "markdown",
   "metadata": {
    "id": "uAR70_3wLEDB"
   },
   "source": [
    "Die Signatur dieses Modul für die Bildstilisierung lautet:\n",
    "```\n",
    "outputs = hub_module(content_image, style_image)\n",
    "stylized_image = outputs[0]\n",
    "```\n",
    "Dabei werden `content_image`, `style_image` und `stylized_image` als 4-D-Tensoren mit den Formen `[batch_size, image_height, image_width, 3]` erwartet.\n",
    "\n",
    "Im aktuellen Beispiel liefern wir nur einzelne Bilder und daher ist die Stapelgröße 1, aber man kann das gleiche Modul verwenden, um mehr Bilder gleichzeitig zu verarbeiten.\n",
    "\n",
    "Die Eingabe- und Ausgabewerte der Bilder sollten im Bereich [0, 1] liegen.\n",
    "\n",
    "Die Formen von Inhalts- und Stilbild müssen nicht übereinstimmen. Die Form des Ausgabebildes\n",
    "ist die gleiche wie die Form des Inhaltsbildes."
   ]
  },
  {
   "cell_type": "markdown",
   "metadata": {
    "id": "qEhYJno1R7rP"
   },
   "source": [
    "## Demonstration der Bildstilisierung"
   ]
  },
  {
   "cell_type": "code",
   "execution_count": null,
   "metadata": {
    "execution": {
     "iopub.execute_input": "2022-04-27T12:48:06.383588Z",
     "iopub.status.busy": "2022-04-27T12:48:06.383222Z",
     "iopub.status.idle": "2022-04-27T12:48:08.257260Z",
     "shell.execute_reply": "2022-04-27T12:48:08.256487Z"
    },
    "id": "lnAv-F3O9fLV"
   },
   "outputs": [],
   "source": [
    "# Stylize content image with given style image.\n",
    "# This is pretty fast within a few milliseconds on a GPU.\n",
    "\n",
    "outputs = hub_module(tf.constant(content_image), tf.constant(style_image))\n",
    "stylized_image = outputs[0]"
   ]
  },
  {
   "cell_type": "code",
   "execution_count": null,
   "metadata": {
    "execution": {
     "iopub.execute_input": "2022-04-27T12:48:08.261515Z",
     "iopub.status.busy": "2022-04-27T12:48:08.260917Z",
     "iopub.status.idle": "2022-04-27T12:48:08.623781Z",
     "shell.execute_reply": "2022-04-27T12:48:08.623111Z"
    },
    "id": "OEAPEdq698gs"
   },
   "outputs": [],
   "source": [
    "# Visualize input images and the generated stylized image.\n",
    "\n",
    "show_n([content_image, style_image, stylized_image], titles=['Original content image', 'Style image', 'Stylized image'])"
   ]
  },
  {
   "cell_type": "markdown",
   "metadata": {
    "id": "v-gYvjTWK-lx"
   },
   "source": [
    "## Probieren wir es mit weiteren Bildern aus"
   ]
  },
  {
   "cell_type": "code",
   "execution_count": null,
   "metadata": {
    "execution": {
     "iopub.execute_input": "2022-04-27T12:48:08.636842Z",
     "iopub.status.busy": "2022-04-27T12:48:08.636397Z",
     "iopub.status.idle": "2022-04-27T12:48:15.835257Z",
     "shell.execute_reply": "2022-04-27T12:48:15.834705Z"
    },
    "id": "WSMaY0YBNfkK"
   },
   "outputs": [],
   "source": [
    "# @title To Run: Load more images { display-mode: \"form\" }\n",
    "\n",
    "content_urls = dict(\n",
    "  sea_turtle='https://upload.wikimedia.org/wikipedia/commons/d/d7/Green_Sea_Turtle_grazing_seagrass.jpg',\n",
    "  tuebingen='https://upload.wikimedia.org/wikipedia/commons/0/00/Tuebingen_Neckarfront.jpg',\n",
    "  grace_hopper='https://storage.googleapis.com/download.tensorflow.org/example_images/grace_hopper.jpg',\n",
    "  )\n",
    "style_urls = dict(\n",
    "  kanagawa_great_wave='https://upload.wikimedia.org/wikipedia/commons/0/0a/The_Great_Wave_off_Kanagawa.jpg',\n",
    "  kandinsky_composition_7='https://upload.wikimedia.org/wikipedia/commons/b/b4/Vassily_Kandinsky%2C_1913_-_Composition_7.jpg',\n",
    "  hubble_pillars_of_creation='https://upload.wikimedia.org/wikipedia/commons/6/68/Pillars_of_creation_2014_HST_WFC3-UVIS_full-res_denoised.jpg',\n",
    "  van_gogh_starry_night='https://upload.wikimedia.org/wikipedia/commons/thumb/e/ea/Van_Gogh_-_Starry_Night_-_Google_Art_Project.jpg/1024px-Van_Gogh_-_Starry_Night_-_Google_Art_Project.jpg',\n",
    "  turner_nantes='https://upload.wikimedia.org/wikipedia/commons/b/b7/JMW_Turner_-_Nantes_from_the_Ile_Feydeau.jpg',\n",
    "  munch_scream='https://upload.wikimedia.org/wikipedia/commons/c/c5/Edvard_Munch%2C_1893%2C_The_Scream%2C_oil%2C_tempera_and_pastel_on_cardboard%2C_91_x_73_cm%2C_National_Gallery_of_Norway.jpg',\n",
    "  picasso_demoiselles_avignon='https://upload.wikimedia.org/wikipedia/en/4/4c/Les_Demoiselles_d%27Avignon.jpg',\n",
    "  picasso_violin='https://upload.wikimedia.org/wikipedia/en/3/3c/Pablo_Picasso%2C_1911-12%2C_Violon_%28Violin%29%2C_oil_on_canvas%2C_Kr%C3%B6ller-M%C3%BCller_Museum%2C_Otterlo%2C_Netherlands.jpg',\n",
    "  picasso_bottle_of_rum='https://upload.wikimedia.org/wikipedia/en/7/7f/Pablo_Picasso%2C_1911%2C_Still_Life_with_a_Bottle_of_Rum%2C_oil_on_canvas%2C_61.3_x_50.5_cm%2C_Metropolitan_Museum_of_Art%2C_New_York.jpg',\n",
    "  fire='https://upload.wikimedia.org/wikipedia/commons/3/36/Large_bonfire.jpg',\n",
    "  derkovits_woman_head='https://upload.wikimedia.org/wikipedia/commons/0/0d/Derkovits_Gyula_Woman_head_1922.jpg',\n",
    "  amadeo_style_life='https://upload.wikimedia.org/wikipedia/commons/8/8e/Untitled_%28Still_life%29_%281913%29_-_Amadeo_Souza-Cardoso_%281887-1918%29_%2817385824283%29.jpg',\n",
    "  derkovtis_talig='https://upload.wikimedia.org/wikipedia/commons/3/37/Derkovits_Gyula_Talig%C3%A1s_1920.jpg',\n",
    "  amadeo_cardoso='https://upload.wikimedia.org/wikipedia/commons/7/7d/Amadeo_de_Souza-Cardoso%2C_1915_-_Landscape_with_black_figure.jpg'\n",
    ")\n",
    "\n",
    "content_image_size = 384\n",
    "style_image_size = 256\n",
    "content_images = {k: load_image(v, (content_image_size, content_image_size)) for k, v in content_urls.items()}\n",
    "style_images = {k: load_image(v, (style_image_size, style_image_size)) for k, v in style_urls.items()}\n",
    "style_images = {k: tf.nn.avg_pool(style_image, ksize=[3,3], strides=[1,1], padding='SAME') for k, style_image in style_images.items()}\n"
   ]
  },
  {
   "cell_type": "code",
   "execution_count": null,
   "metadata": {
    "execution": {
     "iopub.execute_input": "2022-04-27T12:48:15.838632Z",
     "iopub.status.busy": "2022-04-27T12:48:15.838111Z",
     "iopub.status.idle": "2022-04-27T12:48:16.271261Z",
     "shell.execute_reply": "2022-04-27T12:48:16.270673Z"
    },
    "id": "dqB6aNTLNVkK"
   },
   "outputs": [],
   "source": [
    "#@title Specify the main content image and the style you want to use.  { display-mode: \"form\" }\n",
    "\n",
    "content_name = 'sea_turtle'  # @param ['sea_turtle', 'tuebingen', 'grace_hopper']\n",
    "style_name = 'munch_scream'  # @param ['kanagawa_great_wave', 'kandinsky_composition_7', 'hubble_pillars_of_creation', 'van_gogh_starry_night', 'turner_nantes', 'munch_scream', 'picasso_demoiselles_avignon', 'picasso_violin', 'picasso_bottle_of_rum', 'fire', 'derkovits_woman_head', 'amadeo_style_life', 'derkovtis_talig', 'amadeo_cardoso']\n",
    "\n",
    "stylized_image = hub_module(tf.constant(content_images[content_name]),\n",
    "                            tf.constant(style_images[style_name]))[0]\n",
    "\n",
    "show_n([content_images[content_name], style_images[style_name], stylized_image],\n",
    "       titles=['Original content image', 'Style image', 'Stylized image'])"
   ]
  },
  {
   "cell_type": "code",
   "execution_count": null,
   "metadata": {},
   "outputs": [],
   "source": []
  }
 ],
 "metadata": {
  "accelerator": "GPU",
  "colab": {
   "collapsed_sections": [],
   "name": "TF-Hub: Fast Style Transfer for Arbitrary Styles.ipynb",
   "private_outputs": true,
   "provenance": [],
   "toc_visible": true
  },
  "kernelspec": {
   "display_name": "Python 3",
   "language": "python",
   "name": "python3"
  },
  "language_info": {
   "codemirror_mode": {
    "name": "ipython",
    "version": 3
   },
   "file_extension": ".py",
   "mimetype": "text/x-python",
   "name": "python",
   "nbconvert_exporter": "python",
   "pygments_lexer": "ipython3",
   "version": "3.6.13"
  }
 },
 "nbformat": 4,
 "nbformat_minor": 1
}
