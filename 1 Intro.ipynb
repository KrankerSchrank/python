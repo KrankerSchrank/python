{
 "cells": [
  {
   "cell_type": "markdown",
   "metadata": {},
   "source": [
    "# Willkommen zur Einführung von Jupyter Notebook\n",
    "\n",
    "Zellen werden mit Shift + Enter ausgeführt"
   ]
  },
  {
   "cell_type": "code",
   "execution_count": null,
   "metadata": {},
   "outputs": [],
   "source": [
    "print (\"Hello World!\")"
   ]
  },
  {
   "cell_type": "markdown",
   "metadata": {},
   "source": [
    "### Markdown Zellen enthalten formatierbaren Text"
   ]
  },
  {
   "cell_type": "markdown",
   "metadata": {},
   "source": [
    "*Ich bin ein kursiver Text*"
   ]
  },
  {
   "cell_type": "markdown",
   "metadata": {},
   "source": [
    "#### Neue Zellen können im Menu unter Insert eingefügt werden\n",
    "\n",
    "Sucht im Internet nach **Markdown Language** und übt mit den Befehlen"
   ]
  },
  {
   "cell_type": "code",
   "execution_count": null,
   "metadata": {},
   "outputs": [],
   "source": []
  },
  {
   "cell_type": "markdown",
   "metadata": {},
   "source": [
    "### Magische Schlüsselwörter"
   ]
  },
  {
   "cell_type": "markdown",
   "metadata": {},
   "source": [
    "Magische Schlüsselwörter sind spezielle Befehle, die ihr in Zellen ausführen könnt, mit denen ihr das Notebook selbst steuern oder Systemaufrufe wie das Ändern von Verzeichnissen durchführen könnt. Beispielsweise könnt ihr matplotlib so einrichten, dass es interaktiv im Notebook mit %matplotlib arbeitet"
   ]
  },
  {
   "cell_type": "markdown",
   "metadata": {},
   "source": [
    "Magische Befehle werden mit einem oder zwei Prozentzeichen (% oder %%) für Linienmagie und Zellmagie eingeleitet. Linienmagie gilt nur für die Zeile, auf der der magische Befehl steht, während Zellmagie für die gesamte Zelle gilt"
   ]
  },
  {
   "cell_type": "markdown",
   "metadata": {},
   "source": [
    "### Einbetten von Visualisierungen"
   ]
  },
  {
   "cell_type": "markdown",
   "metadata": {},
   "source": [
    "Wie bereits erwähnt, können Notebooks Bilder zusammen mit Text und Code einbetten"
   ]
  },
  {
   "cell_type": "code",
   "execution_count": null,
   "metadata": {},
   "outputs": [],
   "source": [
    "%matplotlib inline\n",
    "\n",
    "import matplotlib.pyplot as plt\n",
    "import numpy as np"
   ]
  },
  {
   "cell_type": "code",
   "execution_count": null,
   "metadata": {},
   "outputs": [],
   "source": [
    "x = np.linspace(0, 1, 300)\n",
    "for w in range(2, 6, 2):\n",
    "    plt.plot(x, np.sin(np.pi*x) * np.sin(2 * w * np.pi * x))"
   ]
  },
  {
   "cell_type": "markdown",
   "metadata": {},
   "source": [
    "### Ausführungszeit des Codes"
   ]
  },
  {
   "cell_type": "markdown",
   "metadata": {},
   "source": [
    "Irgendwann wirst du wahrscheinlich etwas Zeit damit verbringen, den Code zu optimieren. Du kannst untersuchen, wie schnell der Code ausgeführt wird"
   ]
  },
  {
   "cell_type": "code",
   "execution_count": null,
   "metadata": {},
   "outputs": [],
   "source": [
    "from math import sqrt\n",
    "\n",
    "def fibo1(n): # rekursiv\n",
    "    if n == 0:\n",
    "        return 0\n",
    "    elif n == 1:\n",
    "        return 1\n",
    "    return fibo1(n-1) + fibo1(n-2)\n",
    "\n",
    "def fibo2(n): # geschlossen\n",
    "    return ((1+sqrt(5))**n - (1-sqrt(5))**n) / (2**n**sqrt(5))"
   ]
  },
  {
   "cell_type": "code",
   "execution_count": null,
   "metadata": {},
   "outputs": [],
   "source": [
    "%timeit fibo1(20)"
   ]
  },
  {
   "cell_type": "code",
   "execution_count": null,
   "metadata": {},
   "outputs": [],
   "source": [
    "%timeit fibo2(20)"
   ]
  },
  {
   "cell_type": "markdown",
   "metadata": {},
   "source": [
    "Wenn du wissen möchtest, wie lange es dauert, bis eine ganze Zelle läuft, würdest du **%%timeit** so verwenden"
   ]
  },
  {
   "cell_type": "code",
   "execution_count": null,
   "metadata": {},
   "outputs": [],
   "source": [
    "import random"
   ]
  },
  {
   "cell_type": "code",
   "execution_count": null,
   "metadata": {},
   "outputs": [],
   "source": [
    "%%timeit\n",
    "\n",
    "prize = 0\n",
    "for ii in range(100):\n",
    "    # roll a die\n",
    "    roll = random.randint(1, 6)\n",
    "    if roll%2 == 0:\n",
    "        prize += roll\n",
    "    else:\n",
    "        prize -= 1"
   ]
  },
  {
   "cell_type": "markdown",
   "metadata": {},
   "source": [
    "### Debugging des Codes"
   ]
  },
  {
   "cell_type": "markdown",
   "metadata": {},
   "source": [
    "Mit dem Python-Kernel kannst du den interaktiven Debugger mit dem Befehl **%pdb** einschalten. Wenn du einen Fehler verursachst, kannst du die Variablen im aktuellen Namensraum überprüfen"
   ]
  },
  {
   "cell_type": "code",
   "execution_count": null,
   "metadata": {},
   "outputs": [],
   "source": [
    "%pdb"
   ]
  },
  {
   "cell_type": "code",
   "execution_count": null,
   "metadata": {},
   "outputs": [],
   "source": [
    "numbers = 'hello'\n",
    "sum(numbers)"
   ]
  },
  {
   "cell_type": "code",
   "execution_count": null,
   "metadata": {},
   "outputs": [],
   "source": []
  }
 ],
 "metadata": {
  "kernelspec": {
   "display_name": "Python 3",
   "language": "python",
   "name": "python3"
  },
  "language_info": {
   "codemirror_mode": {
    "name": "ipython",
    "version": 3
   },
   "file_extension": ".py",
   "mimetype": "text/x-python",
   "name": "python",
   "nbconvert_exporter": "python",
   "pygments_lexer": "ipython3",
   "version": "3.6.13"
  },
  "widgets": {
   "state": {},
   "version": "1.1.2"
  }
 },
 "nbformat": 4,
 "nbformat_minor": 2
}
